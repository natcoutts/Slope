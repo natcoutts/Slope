{
 "cells": [
  {
   "cell_type": "markdown",
   "metadata": {},
   "source": [
    "# E. Tufte Slope Graphs contest "
   ]
  },
  {
   "cell_type": "markdown",
   "metadata": {},
   "source": [
    "So here is my entry for the slope Graph contest. (You can find the initial bounty description [here](http://www.edwardtufte.com/bboard/q-and-a-fetch-msg?msg_id=0003nk) )\n",
    "\n",
    "## Installation\n",
    "\n",
    "### Dependencies \n",
    "\n",
    "This script is written in Python and relies on Numpy, Pandas and Matplotlib.  \n",
    "The easiest way to have a clean and robust install is to download one the great Scientific Python distribution, nameley : \n",
    "\n",
    "* [Anaconda](https://store.continuum.io/cshop/anaconda/)\n",
    "* [Canopy](https://www.enthought.com/products/canopy/)\n",
    "* [Python(x,y)](https://code.google.com/p/pythonxy/)\n",
    "\n",
    "Everything you'll need is included. I personally use Anaconda from the guys at Continuum Analytics. All of them should work on Linux, Windows and Mac.  \n",
    "\n",
    "### Download the sources\n",
    "\n",
    "Go grab the sources at https://github.com/pascal-schetelat/Slope\n",
    "\n",
    "- If you want slope to be available anywhere on your system : \n",
    "\n",
    "```bash\n",
    "python setup.py install\n",
    "```\n",
    "\n",
    "- Else, just set the working directory where plotSlope.py is.\n",
    "\n",
    "\n",
    "Then you are good to go. Import it in a Python interpreter (for instance Spyder, the Scientific python IDE bundled with Anaconda, or a jupyter notebook): \n",
    "\n",
    "\n",
    "```python\n",
    "from plotSlope import slope\n",
    "```    \n",
    "\n",
    "## Usage "
   ]
  },
  {
   "cell_type": "markdown",
   "metadata": {},
   "source": [
    "Import : "
   ]
  },
  {
   "cell_type": "code",
   "execution_count": null,
   "metadata": {
    "collapsed": true
   },
   "outputs": [],
   "source": [
    "from plotSlope import slope"
   ]
  },
  {
   "cell_type": "code",
   "execution_count": null,
   "metadata": {},
   "outputs": [],
   "source": [
    "import pandas as pd\n",
    "import numpy as np"
   ]
  },
  {
   "cell_type": "markdown",
   "metadata": {},
   "source": [
    "Load data from file into a data frame : "
   ]
  },
  {
   "cell_type": "code",
   "execution_count": null,
   "metadata": {
    "collapsed": false
   },
   "outputs": [],
   "source": [
    "data = pd.read_csv(os.path.join('data','EU_GDP_2007_2013.csv'),index_col=0,na_values='-')\n",
    "(data/1000).head()"
   ]
  },
  {
   "cell_type": "markdown",
   "metadata": {},
   "source": [
    "Plot it :"
   ]
  },
  {
   "cell_type": "code",
   "execution_count": null,
   "metadata": {
    "collapsed": false
   },
   "outputs": [],
   "source": [
    "f = slope(data/1000,kind='interval',height= 12,width=20,font_size=12,dpi=150,savename='EU_interval.png',title = u'title')"
   ]
  },
  {
   "cell_type": "code",
   "execution_count": null,
   "metadata": {
    "collapsed": false
   },
   "outputs": [],
   "source": [
    "color  = {\"France\":'b','Germany':'r','Ireland':'chocolate','United Kingdom': 'purple'}\n",
    "f = slope(data/1000, title = u'European GPD until 2010 and forecasts at market prices (billions of Euro) source : EUROSTAT',\n",
    "          kind='interval',height= 12,width=22,font_size=15,\n",
    "          savename='test.png',color=color,dpi=200) "
   ]
  },
  {
   "cell_type": "code",
   "execution_count": null,
   "metadata": {
    "collapsed": false
   },
   "outputs": [],
   "source": [
    "f = slope(data/1000, title = u'European GPD until 2010 and forecasts at market prices (billions of Euro) source : EUROSTAT',\n",
    "          kind='interval',height= 12,width=30,font_size=20,\n",
    "          savename=None,color=color) "
   ]
  },
  {
   "cell_type": "code",
   "execution_count": null,
   "metadata": {},
   "outputs": [],
   "source": [
    "SCdata = pd.read_csv(os.path.join('data','SCdata.csv'),index_col=0,na_values='-')\n",
    "SCdata.head()"
   ]
  },
  {
   "cell_type": "code",
   "execution_count": null,
   "metadata": {},
   "outputs": [],
   "source": [
    "f = slope(SCdata,kind='interval',height= 12,width=30,font_size=12,dpi=150,savename='Support Central top 20 pages.png',title = u'title')"
   ]
  },
  {
   "cell_type": "markdown",
   "metadata": {},
   "source": [
    "## Other example : Random data "
   ]
  },
  {
   "cell_type": "code",
   "execution_count": null,
   "metadata": {
    "collapsed": false
   },
   "outputs": [],
   "source": [
    "df = pd.DataFrame( np.random.normal(loc=np.ones(shape=[20,30])*np.arange(30)))\n",
    "df.rename(columns = lambda el : str(el),index =lambda el : str(el),inplace=True) "
   ]
  },
  {
   "cell_type": "code",
   "execution_count": null,
   "metadata": {
    "collapsed": false
   },
   "outputs": [],
   "source": [
    "f = slope(df.T,width =10,height= 8,kind='ordinal',savename=None,dpi=200,color={'10':'red','27':'blue'},marker=None) "
   ]
  }
 ],
 "metadata": {
  "kernelspec": {
   "display_name": "Python 3",
   "language": "python",
   "name": "python3"
  },
  "language_info": {
   "codemirror_mode": {
    "name": "ipython",
    "version": 2
   },
   "file_extension": ".py",
   "mimetype": "text/x-python",
   "name": "python",
   "nbconvert_exporter": "python",
   "pygments_lexer": "ipython2",
   "version": "3.7.0-final"
  }
 },
 "nbformat": 4,
 "nbformat_minor": 0
}